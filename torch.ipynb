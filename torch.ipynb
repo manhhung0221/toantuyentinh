{
 "cells": [
  {
   "cell_type": "code",
   "execution_count": 1,
   "metadata": {},
   "outputs": [
    {
     "data": {
      "text/plain": [
       "tensor(8., dtype=torch.float64)"
      ]
     },
     "execution_count": 1,
     "metadata": {},
     "output_type": "execute_result"
    }
   ],
   "source": [
    "import torch\n",
    "A=torch.tensor([\n",
    "    [1,-2],\n",
    "    [3,2]\n",
    "],dtype=float)\n",
    "# Định thức ma trận A, ký hiệu|A|\n",
    "torch.det(A)"
   ]
  },
  {
   "cell_type": "markdown",
   "metadata": {},
   "source": [
    "Ma trận nghịch đảo"
   ]
  },
  {
   "cell_type": "code",
   "execution_count": 11,
   "metadata": {},
   "outputs": [
    {
     "data": {
      "text/plain": [
       "tensor([[1., 0.],\n",
       "        [0., 1.]], dtype=torch.float64)"
      ]
     },
     "execution_count": 11,
     "metadata": {},
     "output_type": "execute_result"
    }
   ],
   "source": [
    "I=A@torch.linalg.inv(A) # A@A^-1 = Ma trận đơn vị n cấp ký hiệu In"
   ]
  },
  {
   "cell_type": "code",
   "execution_count": 7,
   "metadata": {},
   "outputs": [
    {
     "data": {
      "text/plain": [
       "tensor(6., dtype=torch.float64)"
      ]
     },
     "execution_count": 7,
     "metadata": {},
     "output_type": "execute_result"
    }
   ],
   "source": [
    "B=torch.tensor([\n",
    "    [1,2,1],\n",
    "    [2,3,4],\n",
    "    [2,1,2]\n",
    "],dtype=float)\n",
    "torch.det(B)"
   ]
  },
  {
   "cell_type": "code",
   "execution_count": 13,
   "metadata": {},
   "outputs": [
    {
     "data": {
      "text/plain": [
       "tensor([[ 1.0000e+00,  1.1102e-16, -2.7756e-17],\n",
       "        [ 0.0000e+00,  1.0000e+00,  1.1102e-16],\n",
       "        [ 0.0000e+00,  0.0000e+00,  1.0000e+00]], dtype=torch.float64)"
      ]
     },
     "execution_count": 13,
     "metadata": {},
     "output_type": "execute_result"
    }
   ],
   "source": [
    "B@torch.linalg.inv(B)"
   ]
  },
  {
   "cell_type": "markdown",
   "metadata": {},
   "source": [
    "Tích hadamard  2 ma trận:  A*B. \n",
    "<br/>Lưu ý: 2 ma trận phải cùng kích thước mới có thể thực hiện phép cộng, trừ, tích hadamard"
   ]
  },
  {
   "cell_type": "markdown",
   "metadata": {},
   "source": [
    "Tích thông thường cần ma trận A có kích thước m x n và ma trận B có kích thước n x p mới có thể thực hiện phép tính: A@B và phép nhân này không có tính chất giao hoán <br/>\n",
    "Kết quả cho ra ma trận C có kích thước m x p"
   ]
  },
  {
   "cell_type": "code",
   "execution_count": 14,
   "metadata": {},
   "outputs": [
    {
     "data": {
      "text/plain": [
       "tensor([[-10.,   6.],\n",
       "        [  5.,  -4.]], dtype=torch.float64)"
      ]
     },
     "execution_count": 14,
     "metadata": {},
     "output_type": "execute_result"
    }
   ],
   "source": [
    "A=torch.tensor([\n",
    "    [1,2],\n",
    "    [0,1]\n",
    "],dtype=float)\n",
    "B=torch.tensor([ \n",
    "    [1,2],\n",
    "    [5,-3]\n",
    "],dtype=float)\n",
    "torch.linalg.inv(A)@(B-A@A)"
   ]
  },
  {
   "cell_type": "code",
   "execution_count": 15,
   "metadata": {},
   "outputs": [
    {
     "data": {
      "text/plain": [
       "tensor([[-10.,   6.],\n",
       "        [  5.,  -4.]], dtype=torch.float64)"
      ]
     },
     "execution_count": 15,
     "metadata": {},
     "output_type": "execute_result"
    }
   ],
   "source": [
    "torch.linalg.inv(A)@B-A"
   ]
  },
  {
   "cell_type": "markdown",
   "metadata": {},
   "source": [
    "<h3>Mệnh đề</h3>\n",
    "Hạng của một ma trận không thay đổi khi ta áp dụng các phép biến đổi sơ cấp lên ma\n",
    "trận đó"
   ]
  },
  {
   "cell_type": "code",
   "execution_count": 21,
   "metadata": {},
   "outputs": [
    {
     "data": {
      "text/plain": [
       "tensor(3)"
      ]
     },
     "execution_count": 21,
     "metadata": {},
     "output_type": "execute_result"
    }
   ],
   "source": [
    "A=torch.tensor(\n",
    "    [[1 ,1, 1, 1, 1],\n",
    "    [2, 1, 2, 1, 1],\n",
    "    [3, 4, 2, 1, 2],\n",
    "    [4, 4, 3, 1, 2]],dtype=float\n",
    ")\n",
    "torch.matrix_rank(A) #Hạng của ma trận"
   ]
  },
  {
   "cell_type": "markdown",
   "metadata": {},
   "source": [
    "Một xí nghiệp sản xuất ra 3 loại sản phẩm G1, G2, G3 và phân phối hàng tuần cho 3\n",
    "đại lý A, B, C với số lượng cho bởi bảng sau <br/>\n",
    "G1 G2 G3<br/>\n",
    "Đại lý A 150 320 180<br/>\n",
    "Đại lý B 170 420 190<br/>\n",
    "Đại lý C 201 63 58<br/>\n",
    "Giả sử giá nhập các sản phẩm G1, G2, G3 lần lượt là 480$, 600$, 1020$. Và giá bán lẻ\n",
    "của các sản phẩm tại các đại lý phân phối cho bởi bảng sau<br/>\n",
    "         G1 G2 G3<br/>\n",
    "Đại lý A 560 750 1580<br/>\n",
    "Đại lý B 520 690 1390<br/>\n",
    "Đại lý C 590 720 1780<br/>"
   ]
  },
  {
   "cell_type": "code",
   "execution_count": 26,
   "metadata": {},
   "outputs": [],
   "source": [
    "Q=torch.tensor(\n",
    "    [\n",
    "        [150,320,180],\n",
    "        [170,420,190],\n",
    "        [201,63,58]\n",
    "    ],dtype=float\n",
    ")\n",
    "C=torch.tensor([\n",
    "    [480,600,1020]\n",
    "],dtype=float)\n",
    "P=torch.tensor([\n",
    "    [560,750,1580],\n",
    "    [520,690,1390],\n",
    "    [590,720,1780]\n",
    "],dtype=float)"
   ]
  },
  {
   "cell_type": "markdown",
   "metadata": {},
   "source": [
    "Tính chi phí hàng tuần của mỗi đại lý"
   ]
  },
  {
   "cell_type": "code",
   "execution_count": 37,
   "metadata": {},
   "outputs": [
    {
     "data": {
      "text/plain": [
       "tensor([[447600.],\n",
       "        [527400.],\n",
       "        [193440.]], dtype=torch.float64)"
      ]
     },
     "execution_count": 37,
     "metadata": {},
     "output_type": "execute_result"
    }
   ],
   "source": [
    "CP=Q@C.T\n",
    "CP"
   ]
  },
  {
   "cell_type": "markdown",
   "metadata": {},
   "source": [
    "Tính tổng doanh thu hàng tuần của mỗi đại lý đối với từng loại hàng hóa"
   ]
  },
  {
   "cell_type": "code",
   "execution_count": 34,
   "metadata": {},
   "outputs": [
    {
     "data": {
      "text/plain": [
       "tensor([[ 84000., 240000., 284400.],\n",
       "        [ 88400., 289800., 264100.],\n",
       "        [118590.,  45360., 103240.]], dtype=torch.float64)"
      ]
     },
     "execution_count": 34,
     "metadata": {},
     "output_type": "execute_result"
    }
   ],
   "source": [
    "Q*P"
   ]
  },
  {
   "cell_type": "markdown",
   "metadata": {},
   "source": [
    "Tính tổng doanh thu hàng tuần của mỗi đại lý\n",
    "Tổng doanh thu của mỗi cửa hàng nằm trên đường chéo chính của ma trận dưới đây"
   ]
  },
  {
   "cell_type": "code",
   "execution_count": 35,
   "metadata": {},
   "outputs": [
    {
     "data": {
      "text/plain": [
       "tensor([[608400., 549000., 639300.],\n",
       "        [710400., 642300., 740900.],\n",
       "        [251450., 228610., 267190.]], dtype=torch.float64)"
      ]
     },
     "execution_count": 35,
     "metadata": {},
     "output_type": "execute_result"
    }
   ],
   "source": [
    "Q@P.T"
   ]
  },
  {
   "cell_type": "markdown",
   "metadata": {},
   "source": [
    "Tính tổng lợi nhuận hàng tuần của mỗi đại lý."
   ]
  },
  {
   "cell_type": "code",
   "execution_count": 61,
   "metadata": {},
   "outputs": [],
   "source": [
    "Revenue=torch.sum(Q*P,1,keepdim =True)"
   ]
  },
  {
   "cell_type": "code",
   "execution_count": 63,
   "metadata": {},
   "outputs": [
    {
     "data": {
      "text/plain": [
       "tensor([[160800.],\n",
       "        [114900.],\n",
       "        [ 73750.]], dtype=torch.float64)"
      ]
     },
     "execution_count": 63,
     "metadata": {},
     "output_type": "execute_result"
    }
   ],
   "source": [
    "Revenue-CP"
   ]
  }
 ],
 "metadata": {
  "kernelspec": {
   "display_name": "Python 3.9.8 64-bit",
   "language": "python",
   "name": "python3"
  },
  "language_info": {
   "codemirror_mode": {
    "name": "ipython",
    "version": 3
   },
   "file_extension": ".py",
   "mimetype": "text/x-python",
   "name": "python",
   "nbconvert_exporter": "python",
   "pygments_lexer": "ipython3",
   "version": "3.9.8"
  },
  "orig_nbformat": 4,
  "vscode": {
   "interpreter": {
    "hash": "81794d4967e6c3204c66dcd87b604927b115b27c00565d3d43f05ba2f3a2cb0d"
   }
  }
 },
 "nbformat": 4,
 "nbformat_minor": 2
}
